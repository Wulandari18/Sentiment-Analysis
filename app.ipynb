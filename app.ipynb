{
 "cells": [
  {
   "cell_type": "code",
   "execution_count": 2,
   "metadata": {},
   "outputs": [],
   "source": [
    "# Import Library\n",
    "import tweepy\n",
    "import re\n",
    "import pandas as pd\n",
    "import matplotlib.pyplot as plt\n",
    "import seaborn as sns\n",
    "import plotly.express as px\n",
    "import numpy as np\n",
    "import sqlite3\n",
    "import datetime\n",
    "from datetime import timedelta"
   ]
  },
  {
   "cell_type": "code",
   "execution_count": 3,
   "metadata": {},
   "outputs": [],
   "source": [
    "# Inisiasi variable dan query\n",
    "database_name = \"Data_Twitter.db\"\n",
    "create_twitter_table = '''CREATE TABLE IF NOT EXISTS twitter (\n",
    "                            Id INTEGER PRIMARY KEY AUTOINCREMENT,\n",
    "                            User_acc TEXT NOT NULL,\n",
    "                            Followers_count INTEGER NOT NULL,\n",
    "                            Following_count INTEGER NOT NULL,\n",
    "                            Number_of_tweets INTEGER NOT NULL, \n",
    "                            Date DATETIME NOT NULL,\n",
    "                            Tweet TEXT NOT NULL UNIQUE,\n",
    "                            Retweet_count INTEGER NOT NULL,\n",
    "                            Favorite_count INTEGER NOT NULL,\n",
    "                            Sentiment INTEGER);'''"
   ]
  },
  {
   "cell_type": "code",
   "execution_count": 4,
   "metadata": {},
   "outputs": [],
   "source": [
    "update_twitter = '''INSERT OR IGNORE into twitter (User_acc, Followers_count, Following_count, Number_of_tweets, \n",
    "                                                    Date, Tweet, Retweet_count, Favorite_count) \n",
    "                                        values (?,?,?,?,?,?,?,?);'''\n",
    "update_sentiment = '''UPDATE twitter SET Sentiment = (?) WHERE Id = (?);'''\n",
    "read_data = '''SELECT Id, Tweet\n",
    "                    FROM twitter'''\n",
    "select_data = '''SELECT User_acc, Followers_count, Following_count, Number_of_tweets, Date, Tweet, Retweet_count, \n",
    "                        Favorite_count, Sentiment\n",
    "                    FROM twitter\n",
    "                    WHERE DATE(Date) BETWEEN (?) AND (?);'''\n"
   ]
  },
  {
   "cell_type": "code",
   "execution_count": 5,
   "metadata": {},
   "outputs": [],
   "source": [
    "consumer_key = 'oFTqcktlhHYhtBUQYvEXSYNGb'\n",
    "consumer_secret = 'iQHyyAnkXyi2T2Xato1BCXTj8hdYbJG08f4L6PsCCpeLRtVYe2'\n",
    "access_token = '2737082058-J03kdrXTtL6qOYZr4meuyDPBx1AHdtcSHpoBpkO'\n",
    "access_token_secret = 'mUMZCtJffUVv2NHZ5iuZUqpzLAYgRjRbz19K725gxoMnv'\n",
    "date = datetime.date.today()\n",
    "twodays = datetime.timedelta(days=2)\n",
    "range_date = date - twodays\n",
    "search_word = 'vaksin covid'"
   ]
  },
  {
   "cell_type": "code",
   "execution_count": 6,
   "metadata": {},
   "outputs": [],
   "source": [
    "# Read positive and negative files\n",
    "pos_list= open(\"./kata_positif.txt\",\"r\")\n",
    "pos_word = pos_list.readlines()\n",
    "neg_list= open(\"./kata_negatif.txt\",\"r\")\n",
    "neg_word = neg_list.readlines()\n"
   ]
  },
  {
   "cell_type": "code",
   "execution_count": 7,
   "metadata": {},
   "outputs": [],
   "source": [
    "# Make a Database and Table\n",
    "def make_table(database_name, create_twitter_table):\n",
    "    connection = sqlite3.connect(database_name)\n",
    "    cursor = connection.cursor()\n",
    "    cursor.execute(create_twitter_table)\n",
    "    connection.commit()\n",
    "    cursor.close()\n",
    "    connection.close()"
   ]
  },
  {
   "cell_type": "code",
   "execution_count": 8,
   "metadata": {},
   "outputs": [],
   "source": [
    "make_table(database_name, create_twitter_table)"
   ]
  },
  {
   "cell_type": "code",
   "execution_count": 9,
   "metadata": {},
   "outputs": [],
   "source": [
    "# Scraping Data\n",
    "def get_data(consumer_key, consumer_secret, access_token, access_token_secret, search_word, range_date):\n",
    "\tauth = tweepy.OAuthHandler(consumer_key, consumer_secret)\n",
    "\tauth.set_access_token(access_token, access_token_secret)\n",
    "\tapi = tweepy.API(auth)\n",
    "\n",
    "\tnew_search = search_word + \" -filter:retweets\"\n",
    "\n",
    "\ttweets = tweepy.Cursor(api.search,\n",
    "\t\t\t        q=new_search,\n",
    "\t\t\t        lang=\"id\",\n",
    "\t\t\t        since=range_date).items(1000)\n",
    "\t\t\n",
    "\tdata = []\n",
    "\tfor item in tweets:\n",
    "\t\ttweet = []\n",
    "\t\tuser_acc = item.user.screen_name\n",
    "\t\tfollowers_count = item.user.followers_count\n",
    "\t\tfollowing_count = item.user.friends_count\n",
    "\t\tnum_of_tweets = item.user.statuses_count        \n",
    "\t\tdate = item.created_at\n",
    "\t\ttweet_clean = (' '.join(re.sub(\"(@[A-Za-z0-9]+)|([^0-9A-Za-z \\t])|(\\w+:\\/\\/\\S+)\", \" \", item.text).split()))\n",
    "\t\tretweet_count = item.retweet_count\n",
    "\t\tfavorite_count = item.favorite_count\n",
    "\t\ttweet.append(user_acc)\n",
    "\t\ttweet.append(followers_count)\n",
    "\t\ttweet.append(following_count)\n",
    "\t\ttweet.append(num_of_tweets)\n",
    "\t\ttweet.append(date)\n",
    "\t\ttweet.append(tweet_clean)\n",
    "\t\ttweet.append(retweet_count)\n",
    "\t\ttweet.append(favorite_count)\n",
    "\t\tdata.append(tuple(tweet))\n",
    "\treturn(data)\n"
   ]
  },
  {
   "cell_type": "code",
   "execution_count": 10,
   "metadata": {},
   "outputs": [],
   "source": [
    "# Update Tweet Data\n",
    "def update_tweet(database_name, update_twitter, data):\n",
    "    connection = sqlite3.connect(database_name)\n",
    "    cursor = connection.cursor()\n",
    "    cursor.executemany(update_twitter,data)\n",
    "    connection.commit()\n",
    "    cursor.close()\n",
    "    connection.close()\n"
   ]
  },
  {
   "cell_type": "code",
   "execution_count": 11,
   "metadata": {},
   "outputs": [],
   "source": [
    "# Read SQL\n",
    "def read_sql(database_name, read_data):\n",
    "    connection = sqlite3.connect(database_name)\n",
    "    cursor = connection.cursor()\n",
    "    cursor.execute(read_data)\n",
    "    tweet_ = list(cursor.fetchall())\n",
    "    connection.commit()\n",
    "    cursor.close()\n",
    "    connection.close()\n",
    "    return(tweet_)\n"
   ]
  },
  {
   "cell_type": "code",
   "execution_count": 12,
   "metadata": {},
   "outputs": [],
   "source": [
    "# Calculate Sentiment Value\n",
    "def sentiment_value(tweet_, pos_word, neg_word):\n",
    "    Id_ = [list_[0] for list_ in tweet_]\n",
    "    items = [list_[1] for list_ in tweet_]\n",
    "    Sentiment = []\n",
    "    for item in items:\n",
    "        count_p = 0\n",
    "        count_n = 0\n",
    "        for word_pos in pos_word:\n",
    "            if word_pos.strip() in item:\n",
    "                count_p +=1\n",
    "        for word_neg in neg_word:\n",
    "            if word_neg.strip() in item:\n",
    "                count_n +=1    \n",
    "        Sentiment.append((count_p - count_n))\n",
    "      \n",
    "    id_ = []\n",
    "    for number in Id_:\n",
    "        id_.append(number)\n",
    "    Sentiment_results = list(zip(Sentiment, id_))\n",
    "    return(Sentiment_results)"
   ]
  },
  {
   "cell_type": "code",
   "execution_count": 13,
   "metadata": {},
   "outputs": [],
   "source": [
    "# Updating Sentiment Value\n",
    "def update_sentiment_column(database_name, update_sentiment, Sentiment):\n",
    "    connection = sqlite3.connect(database_name)\n",
    "    cursor = connection.cursor()\n",
    "    cursor.executemany(update_sentiment, (Sentiment))\n",
    "    connection.commit()\n",
    "    cursor.close()\n",
    "    connection.close()"
   ]
  },
  {
   "cell_type": "code",
   "execution_count": 14,
   "metadata": {},
   "outputs": [],
   "source": [
    "# Display Data\n",
    "def display_data(database_name, select_data, date1, date2):\n",
    "    connection = sqlite3.connect(database_name)\n",
    "    cursor = connection.cursor()\n",
    "    cursor.execute(select_data, (date1, date2))\n",
    "    record = cursor.fetchall()\n",
    "    connection.commit()\n",
    "    cursor.close()\n",
    "    connection.close()\n",
    "    return(record)"
   ]
  },
  {
   "cell_type": "code",
   "execution_count": 15,
   "metadata": {},
   "outputs": [],
   "source": [
    "# Make a DataFrame for display\n",
    "def df(record):\n",
    "    df_ = []\n",
    "    for row in record:\n",
    "        list_ = [row[0], row[4], row[5], row[8]]\n",
    "        df_.append(list_)\n",
    "    data_display = pd.DataFrame(df_, columns=['User_acc', 'Date','Tweet', 'Sentiment_values'])\n",
    "    display(data_display)\n",
    "    return(data_display)"
   ]
  },
  {
   "cell_type": "code",
   "execution_count": 32,
   "metadata": {},
   "outputs": [],
   "source": [
    "# Visualization sentiment\n",
    "def visualization(record):\n",
    "    #values = [value[0] for value in Sentiment_results]\n",
    "    df_ = []\n",
    "    for row in record:\n",
    "        list_ = row[8]\n",
    "        df_.append(list_)\n",
    "    mean = np.mean(df_)\n",
    "    median = np.median(df_)\n",
    "    std = np.std(df_, ddof=1)\n",
    "    print('Mean Value:', '%.3f'%mean)\n",
    "    print('Median Value:', '%.3f'%median)\n",
    "    print('Standard Deviation:', '%.3f'%std)\n",
    "    labels, counts = np.unique(df_, return_counts=True)\n",
    "\n",
    "    plt.figure(0)\n",
    "    plt.bar(labels, counts, align='center')\n",
    "    plt.gca().set_xticks(labels)\n",
    "    plt.xlabel('Sentiment Value')\n",
    "    plt.ylabel('Count')\n",
    "    plt.title('Sentiment Analysis of COVID-19 Vaccine Topics')\n",
    "    plt.savefig('Sentiment.png', dpi = 300)\n",
    "    plt.show()"
   ]
  },
  {
   "cell_type": "code",
   "execution_count": 17,
   "metadata": {},
   "outputs": [],
   "source": [
    "# Visualization top influencer based on followers_count\n",
    "def vis_inf(record):\n",
    "    #values = [value[0] for value in Sentiment_results]\n",
    "    vis_inf_ = []\n",
    "    for row in record:\n",
    "        list_ = [row[0], row[1]]\n",
    "        vis_inf_.append(list_)\n",
    "    \n",
    "    based_foll = pd.DataFrame(vis_inf_, columns=['User_acc','Followers_count'])\n",
    "    based_foll = based_foll.nlargest(10, 'Followers_count')[['User_acc', 'Followers_count']]\n",
    "    \n",
    "    plt.figure(0)\n",
    "    plt.barh(based_foll['User_acc'], based_foll['Followers_count'], align='center')\n",
    "    plt.xlabel('User Account')\n",
    "    plt.ylabel('Followers Count')\n",
    "    plt.show()"
   ]
  },
  {
   "cell_type": "code",
   "execution_count": 18,
   "metadata": {},
   "outputs": [],
   "source": [
    "# Visualization top influencer based on followers_count\n",
    "def vis_pop(record):\n",
    "    #values = [value[0] for value in Sentiment_results]\n",
    "    vis_pop_ = []\n",
    "    for row in record:\n",
    "        list_ = [row[0], row[1], row[6], row[7]]\n",
    "        vis_pop_.append(list_)\n",
    "    \n",
    "    pop = pd.DataFrame(vis_pop_, columns=['User_acc', 'Followers_count', 'Retweet_count', 'Favorite_count'])\n",
    "    pop['Popularity'] = pop['Retweet_count'] + pop['Favorite_count']\n",
    "    pop = pop.nlargest(10, 'Popularity')[['User_acc', 'Popularity', 'Followers_count']]\n",
    "    \n",
    "    pop.sort_values(by = \"Popularity\", ascending = False, inplace = True)\n",
    "    fig = px.bar(pop, x='User_acc', y='Popularity',\n",
    "             color='Followers_count', text = 'Followers_count',\n",
    "             color_continuous_scale = 'rdylgn')\n",
    "    fig.update_traces(texttemplate='%{text:.2s}', textposition='outside')\n",
    "    fig.update_layout(uniformtext_minsize=8, uniformtext_mode='hide')\n",
    "    plt.xlabel('User Account')\n",
    "    plt.ylabel('Popularity Score')\n",
    "    plt.title('Popularity Score of User Accounts')\n",
    "    fig.show()"
   ]
  },
  {
   "cell_type": "code",
   "execution_count": 19,
   "metadata": {},
   "outputs": [],
   "source": [
    "# Visualization top influencer based on followers_count\n",
    "def vis_reach(record):\n",
    "    #values = [value[0] for value in Sentiment_results]\n",
    "    vis_reach_ = []\n",
    "    for row in record:\n",
    "        list_ = [row[0], row[1], row[2]]\n",
    "        vis_reach_.append(list_)\n",
    "    \n",
    "    reach_ = pd.DataFrame(vis_reach_, columns=['User_acc','Followers_count', 'Following_count'])\n",
    "    reach_['Reach'] = reach_['Followers_count'] + reach_['Following_count']\n",
    "    reach_ = reach_.nlargest(10, 'Reach')[['User_acc', 'Reach']]\n",
    "    \n",
    "    reach_.sort_values(by = \"Reach\", ascending = False, inplace = True)\n",
    "    fig = px.bar(reach_, x='User_acc', y='Reach',\n",
    "             color='Reach', text = 'Reach',\n",
    "             color_continuous_scale = 'rdylgn')\n",
    "    fig.update_traces(texttemplate='%{text:.2s}', textposition='outside')\n",
    "    fig.update_layout(uniformtext_minsize=8, uniformtext_mode='hide')\n",
    "    plt.xlabel('User Account')\n",
    "    plt.ylabel('Reach Score')\n",
    "    plt.title('Reach Score of User Accounts')\n",
    "    fig.show()"
   ]
  },
  {
   "cell_type": "code",
   "execution_count": null,
   "metadata": {},
   "outputs": [
    {
     "name": "stdout",
     "output_type": "stream",
     "text": [
      "What do you want?\n",
      "                    1. Update Data\n",
      "                    2. Update Sentiment Value\n",
      "                    3. View Data\n",
      "                    4. Sentiment Visualization\n",
      "                    5. Popularity Score of User Accounts\n",
      "                    6. Reach Score of User Accounts\n",
      "                    7. Exit\n",
      "                    Your Input:4\n",
      "Start date (format: yyyy-mm-dd):2020-12-23\n",
      "End date (format: yyyy-mm-dd):2020-12-25\n",
      "Mean Value: 0.119\n",
      "Median Value: 0.000\n",
      "Standard Deviation: 1.482\n"
     ]
    },
    {
     "data": {
      "image/png": "[encoded data removed]",
      "text/plain": [
       "<Figure size 432x288 with 1 Axes>"
      ]
     },
     "metadata": {
      "needs_background": "light"
     },
     "output_type": "display_data"
    }
   ],
   "source": [
    "### User Input\n",
    "index = 0\n",
    "while index < np.inf: \n",
    "    choice = input('''What do you want?\n",
    "                    1. Update Data\n",
    "                    2. Update Sentiment Value\n",
    "                    3. View Data\n",
    "                    4. Sentiment Visualization\n",
    "                    5. Popularity Score of User Accounts\n",
    "                    6. Reach Score of User Accounts\n",
    "                    7. Exit\n",
    "                    Your Input:''')\n",
    "    if choice == '1':\n",
    "        data = get_data(consumer_key, consumer_secret, access_token, access_token_secret, search_word, range_date)\n",
    "        update_tweet(database_name, update_twitter, data)\n",
    "        print('Your data have been updated!')\n",
    "    if choice == '2':\n",
    "        tweet_ = read_sql(database_name, read_data)\n",
    "        Sentiment = sentiment_value(tweet_, pos_word, neg_word)\n",
    "        update_sentiment_column(database_name, update_sentiment, Sentiment)\n",
    "        print('Sentiment values have been updated!')\n",
    "    if choice == '3':\n",
    "        date1 = input('Start date (format: yyyy-mm-dd):')\n",
    "        date2 = input('End date (format: yyyy-mm-dd):')\n",
    "        record = display_data(database_name, select_data, date1, date2)\n",
    "        df(record)\n",
    "    if choice == '4':\n",
    "        date1 = input('Start date (format: yyyy-mm-dd):')\n",
    "        date2 = input('End date (format: yyyy-mm-dd):')\n",
    "        record = display_data(database_name, select_data, date1, date2)\n",
    "        visualization(record)\n",
    "    if choice == '5':\n",
    "        date1 = input('Start date (format: yyyy-mm-dd):')\n",
    "        date2 = input('End date (format: yyyy-mm-dd):')\n",
    "        record = display_data(database_name, select_data, date1, date2)\n",
    "        vis_pop(record)\n",
    "    if choice == '6':\n",
    "        date1 = input('Start date (format: yyyy-mm-dd):')\n",
    "        date2 = input('End date (format: yyyy-mm-dd):')\n",
    "        record = display_data(database_name, select_data, date1, date2)\n",
    "        vis_reach(record)\n",
    "    if choice == '7':\n",
    "        print('Thank you! Have a good day!')\n",
    "        break"
   ]
  }
 ],
 "metadata": {
  "kernelspec": {
   "display_name": "Python 3",
   "language": "python",
   "name": "python3"
  },
  "language_info": {
   "codemirror_mode": {
    "name": "ipython",
    "version": 3
   },
   "file_extension": ".py",
   "mimetype": "text/x-python",
   "name": "python",
   "nbconvert_exporter": "python",
   "pygments_lexer": "ipython3",
   "version": "3.7.5"
  }
 },
 "nbformat": 4,
 "nbformat_minor": 4
}
